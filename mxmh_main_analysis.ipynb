{
 "cells": [
  {
   "cell_type": "code",
   "execution_count": 2,
   "id": "851b2dd0-1b22-4e0d-805d-d0e0cc5403b7",
   "metadata": {},
   "outputs": [],
   "source": [
    "import os\n",
    "import numpy as np\n",
    "import pandas as pd\n",
    "import matplotlib.pyplot as plt\n",
    "import seaborn as sns\n",
    "\n",
    "# Load and clean data \n",
    "mxmh_df = pd.read_csv ('Resources/mxmh_survey_results.csv')\n"
   ]
  },
  {
   "cell_type": "code",
   "execution_count": 3,
   "id": "eab5ba91-256f-4f41-8707-7adf0f117a61",
   "metadata": {},
   "outputs": [
    {
     "data": {
      "text/plain": [
       "Index(['Age', 'Anxiety', 'BPM', 'Composer', 'Depression', 'Exploratory',\n",
       "       'Fav genre', 'Foreign languages', 'Frequency [Classical]',\n",
       "       'Frequency [Country]', 'Frequency [EDM]', 'Frequency [Folk]',\n",
       "       'Frequency [Gospel]', 'Frequency [Hip hop]', 'Frequency [Jazz]',\n",
       "       'Frequency [K pop]', 'Frequency [Latin]', 'Frequency [Lofi]',\n",
       "       'Frequency [Metal]', 'Frequency [Pop]', 'Frequency [R&B]',\n",
       "       'Frequency [Rap]', 'Frequency [Rock]', 'Frequency [Video game music]',\n",
       "       'Hours per day', 'Insomnia', 'Instrumentalist', 'Music effects', 'OCD',\n",
       "       'Permissions', 'Primary streaming service', 'Timestamp',\n",
       "       'While working'],\n",
       "      dtype='object')"
      ]
     },
     "execution_count": 3,
     "metadata": {},
     "output_type": "execute_result"
    }
   ],
   "source": [
    "# View index/sort columns\n",
    "mxmh_df.columns.sort_values()"
   ]
  },
  {
   "cell_type": "code",
   "execution_count": 4,
   "id": "14bb2789-ed33-4b18-b5db-3b917bb99ab3",
   "metadata": {},
   "outputs": [
    {
     "data": {
      "text/plain": [
       "Timestamp                        object\n",
       "Age                             float64\n",
       "Primary streaming service        object\n",
       "Hours per day                   float64\n",
       "While working                    object\n",
       "Instrumentalist                  object\n",
       "Composer                         object\n",
       "Fav genre                        object\n",
       "Exploratory                      object\n",
       "Foreign languages                object\n",
       "BPM                             float64\n",
       "Frequency [Classical]            object\n",
       "Frequency [Country]              object\n",
       "Frequency [EDM]                  object\n",
       "Frequency [Folk]                 object\n",
       "Frequency [Gospel]               object\n",
       "Frequency [Hip hop]              object\n",
       "Frequency [Jazz]                 object\n",
       "Frequency [K pop]                object\n",
       "Frequency [Latin]                object\n",
       "Frequency [Lofi]                 object\n",
       "Frequency [Metal]                object\n",
       "Frequency [Pop]                  object\n",
       "Frequency [R&B]                  object\n",
       "Frequency [Rap]                  object\n",
       "Frequency [Rock]                 object\n",
       "Frequency [Video game music]     object\n",
       "Anxiety                         float64\n",
       "Depression                      float64\n",
       "Insomnia                        float64\n",
       "OCD                             float64\n",
       "Music effects                    object\n",
       "Permissions                      object\n",
       "dtype: object"
      ]
     },
     "execution_count": 4,
     "metadata": {},
     "output_type": "execute_result"
    }
   ],
   "source": [
    "# Display data types for reference with building code\n",
    "mxmh_df.dtypes"
   ]
  },
  {
   "cell_type": "code",
   "execution_count": 5,
   "id": "9ecd85e7-2b2f-4ee2-9b3e-e7d8c5b36f54",
   "metadata": {},
   "outputs": [
    {
     "data": {
      "text/plain": [
       "Timestamp                         0\n",
       "Age                               1\n",
       "Primary streaming service         1\n",
       "Hours per day                     0\n",
       "While working                     3\n",
       "Instrumentalist                   4\n",
       "Composer                          1\n",
       "Fav genre                         0\n",
       "Exploratory                       0\n",
       "Foreign languages                 4\n",
       "BPM                             107\n",
       "Frequency [Classical]             0\n",
       "Frequency [Country]               0\n",
       "Frequency [EDM]                   0\n",
       "Frequency [Folk]                  0\n",
       "Frequency [Gospel]                0\n",
       "Frequency [Hip hop]               0\n",
       "Frequency [Jazz]                  0\n",
       "Frequency [K pop]                 0\n",
       "Frequency [Latin]                 0\n",
       "Frequency [Lofi]                  0\n",
       "Frequency [Metal]                 0\n",
       "Frequency [Pop]                   0\n",
       "Frequency [R&B]                   0\n",
       "Frequency [Rap]                   0\n",
       "Frequency [Rock]                  0\n",
       "Frequency [Video game music]      0\n",
       "Anxiety                           0\n",
       "Depression                        0\n",
       "Insomnia                          0\n",
       "OCD                               0\n",
       "Music effects                     8\n",
       "Permissions                       0\n",
       "dtype: int64"
      ]
     },
     "execution_count": 5,
     "metadata": {},
     "output_type": "execute_result"
    }
   ],
   "source": [
    "# Display columns with null values and how many\n",
    "mxmh_df.isnull().sum()"
   ]
  },
  {
   "cell_type": "code",
   "execution_count": 6,
   "id": "deb4efc5-c280-41c5-a9d6-941ae59be037",
   "metadata": {},
   "outputs": [
    {
     "data": {
      "text/html": [
       "<div>\n",
       "<style scoped>\n",
       "    .dataframe tbody tr th:only-of-type {\n",
       "        vertical-align: middle;\n",
       "    }\n",
       "\n",
       "    .dataframe tbody tr th {\n",
       "        vertical-align: top;\n",
       "    }\n",
       "\n",
       "    .dataframe thead th {\n",
       "        text-align: right;\n",
       "    }\n",
       "</style>\n",
       "<table border=\"1\" class=\"dataframe\">\n",
       "  <thead>\n",
       "    <tr style=\"text-align: right;\">\n",
       "      <th></th>\n",
       "      <th>Timestamp</th>\n",
       "      <th>Age</th>\n",
       "      <th>Primary streaming service</th>\n",
       "      <th>Hours per day</th>\n",
       "      <th>While working</th>\n",
       "      <th>Instrumentalist</th>\n",
       "      <th>Composer</th>\n",
       "      <th>Fav genre</th>\n",
       "      <th>Exploratory</th>\n",
       "      <th>Foreign languages</th>\n",
       "      <th>...</th>\n",
       "      <th>Frequency [R&amp;B]</th>\n",
       "      <th>Frequency [Rap]</th>\n",
       "      <th>Frequency [Rock]</th>\n",
       "      <th>Frequency [Video game music]</th>\n",
       "      <th>Anxiety</th>\n",
       "      <th>Depression</th>\n",
       "      <th>Insomnia</th>\n",
       "      <th>OCD</th>\n",
       "      <th>Music effects</th>\n",
       "      <th>Permissions</th>\n",
       "    </tr>\n",
       "  </thead>\n",
       "  <tbody>\n",
       "    <tr>\n",
       "      <th>2</th>\n",
       "      <td>8/27/2022 21:28:18</td>\n",
       "      <td>18.0</td>\n",
       "      <td>Spotify</td>\n",
       "      <td>4.0</td>\n",
       "      <td>No</td>\n",
       "      <td>No</td>\n",
       "      <td>No</td>\n",
       "      <td>Video game music</td>\n",
       "      <td>No</td>\n",
       "      <td>Yes</td>\n",
       "      <td>...</td>\n",
       "      <td>Never</td>\n",
       "      <td>Rarely</td>\n",
       "      <td>Rarely</td>\n",
       "      <td>Very frequently</td>\n",
       "      <td>7.0</td>\n",
       "      <td>7.0</td>\n",
       "      <td>10.0</td>\n",
       "      <td>2.0</td>\n",
       "      <td>No effect</td>\n",
       "      <td>I understand.</td>\n",
       "    </tr>\n",
       "    <tr>\n",
       "      <th>3</th>\n",
       "      <td>8/27/2022 21:40:40</td>\n",
       "      <td>61.0</td>\n",
       "      <td>YouTube Music</td>\n",
       "      <td>2.5</td>\n",
       "      <td>Yes</td>\n",
       "      <td>No</td>\n",
       "      <td>Yes</td>\n",
       "      <td>Jazz</td>\n",
       "      <td>Yes</td>\n",
       "      <td>Yes</td>\n",
       "      <td>...</td>\n",
       "      <td>Sometimes</td>\n",
       "      <td>Never</td>\n",
       "      <td>Never</td>\n",
       "      <td>Never</td>\n",
       "      <td>9.0</td>\n",
       "      <td>7.0</td>\n",
       "      <td>3.0</td>\n",
       "      <td>3.0</td>\n",
       "      <td>Improve</td>\n",
       "      <td>I understand.</td>\n",
       "    </tr>\n",
       "    <tr>\n",
       "      <th>4</th>\n",
       "      <td>8/27/2022 21:54:47</td>\n",
       "      <td>18.0</td>\n",
       "      <td>Spotify</td>\n",
       "      <td>4.0</td>\n",
       "      <td>Yes</td>\n",
       "      <td>No</td>\n",
       "      <td>No</td>\n",
       "      <td>R&amp;B</td>\n",
       "      <td>Yes</td>\n",
       "      <td>No</td>\n",
       "      <td>...</td>\n",
       "      <td>Very frequently</td>\n",
       "      <td>Very frequently</td>\n",
       "      <td>Never</td>\n",
       "      <td>Rarely</td>\n",
       "      <td>7.0</td>\n",
       "      <td>2.0</td>\n",
       "      <td>5.0</td>\n",
       "      <td>9.0</td>\n",
       "      <td>Improve</td>\n",
       "      <td>I understand.</td>\n",
       "    </tr>\n",
       "    <tr>\n",
       "      <th>5</th>\n",
       "      <td>8/27/2022 21:56:50</td>\n",
       "      <td>18.0</td>\n",
       "      <td>Spotify</td>\n",
       "      <td>5.0</td>\n",
       "      <td>Yes</td>\n",
       "      <td>Yes</td>\n",
       "      <td>Yes</td>\n",
       "      <td>Jazz</td>\n",
       "      <td>Yes</td>\n",
       "      <td>Yes</td>\n",
       "      <td>...</td>\n",
       "      <td>Very frequently</td>\n",
       "      <td>Very frequently</td>\n",
       "      <td>Very frequently</td>\n",
       "      <td>Never</td>\n",
       "      <td>8.0</td>\n",
       "      <td>8.0</td>\n",
       "      <td>7.0</td>\n",
       "      <td>7.0</td>\n",
       "      <td>Improve</td>\n",
       "      <td>I understand.</td>\n",
       "    </tr>\n",
       "    <tr>\n",
       "      <th>6</th>\n",
       "      <td>8/27/2022 22:00:29</td>\n",
       "      <td>18.0</td>\n",
       "      <td>YouTube Music</td>\n",
       "      <td>3.0</td>\n",
       "      <td>Yes</td>\n",
       "      <td>Yes</td>\n",
       "      <td>No</td>\n",
       "      <td>Video game music</td>\n",
       "      <td>Yes</td>\n",
       "      <td>Yes</td>\n",
       "      <td>...</td>\n",
       "      <td>Rarely</td>\n",
       "      <td>Never</td>\n",
       "      <td>Never</td>\n",
       "      <td>Sometimes</td>\n",
       "      <td>4.0</td>\n",
       "      <td>8.0</td>\n",
       "      <td>6.0</td>\n",
       "      <td>0.0</td>\n",
       "      <td>Improve</td>\n",
       "      <td>I understand.</td>\n",
       "    </tr>\n",
       "  </tbody>\n",
       "</table>\n",
       "<p>5 rows × 33 columns</p>\n",
       "</div>"
      ],
      "text/plain": [
       "            Timestamp   Age Primary streaming service  Hours per day  \\\n",
       "2  8/27/2022 21:28:18  18.0                   Spotify            4.0   \n",
       "3  8/27/2022 21:40:40  61.0             YouTube Music            2.5   \n",
       "4  8/27/2022 21:54:47  18.0                   Spotify            4.0   \n",
       "5  8/27/2022 21:56:50  18.0                   Spotify            5.0   \n",
       "6  8/27/2022 22:00:29  18.0             YouTube Music            3.0   \n",
       "\n",
       "  While working Instrumentalist Composer         Fav genre Exploratory  \\\n",
       "2            No              No       No  Video game music          No   \n",
       "3           Yes              No      Yes              Jazz         Yes   \n",
       "4           Yes              No       No               R&B         Yes   \n",
       "5           Yes             Yes      Yes              Jazz         Yes   \n",
       "6           Yes             Yes       No  Video game music         Yes   \n",
       "\n",
       "  Foreign languages  ...  Frequency [R&B]  Frequency [Rap] Frequency [Rock]  \\\n",
       "2               Yes  ...            Never           Rarely           Rarely   \n",
       "3               Yes  ...        Sometimes            Never            Never   \n",
       "4                No  ...  Very frequently  Very frequently            Never   \n",
       "5               Yes  ...  Very frequently  Very frequently  Very frequently   \n",
       "6               Yes  ...           Rarely            Never            Never   \n",
       "\n",
       "  Frequency [Video game music] Anxiety Depression Insomnia  OCD Music effects  \\\n",
       "2              Very frequently     7.0        7.0     10.0  2.0     No effect   \n",
       "3                        Never     9.0        7.0      3.0  3.0       Improve   \n",
       "4                       Rarely     7.0        2.0      5.0  9.0       Improve   \n",
       "5                        Never     8.0        8.0      7.0  7.0       Improve   \n",
       "6                    Sometimes     4.0        8.0      6.0  0.0       Improve   \n",
       "\n",
       "     Permissions  \n",
       "2  I understand.  \n",
       "3  I understand.  \n",
       "4  I understand.  \n",
       "5  I understand.  \n",
       "6  I understand.  \n",
       "\n",
       "[5 rows x 33 columns]"
      ]
     },
     "execution_count": 6,
     "metadata": {},
     "output_type": "execute_result"
    }
   ],
   "source": [
    "# Drop rows with null values\n",
    "mxmh_clean_df = mxmh_df.dropna()\n",
    "mxmh_clean_df.head()"
   ]
  },
  {
   "cell_type": "code",
   "execution_count": 7,
   "id": "04f06003-9775-4c65-b6c4-3225c9c34787",
   "metadata": {},
   "outputs": [],
   "source": [
    "#1 Pie Chart: Percentage of different age demographics who report using music for mental health improvement \n",
    "improvement_df = mxmh_df[mxmh_df['Music effects'] == 'Improve']"
   ]
  },
  {
   "cell_type": "code",
   "execution_count": null,
   "id": "34c0a90d-31df-4731-908f-ba829fa394ad",
   "metadata": {},
   "outputs": [],
   "source": [
    "#1: Stacked Bar Chart: To visualize the proportion of reliance on music within different age demographics.\n"
   ]
  },
  {
   "cell_type": "markdown",
   "id": "03ba0a4c-9819-4c7a-ac87-1d024260ce11",
   "metadata": {},
   "source": [
    "# What age demographic is most reliant on music for their mental health improvement?\n",
    "\n"
   ]
  },
  {
   "cell_type": "code",
   "execution_count": null,
   "id": "5fd28ee3-e07b-4f38-83da-d98e16d28b5a",
   "metadata": {},
   "outputs": [],
   "source": [
    "#2 Grouped Bar Chart: Separate bars for each genre showing both positive and negative impacts, with different colors for improvement and worsening effects.\n"
   ]
  },
  {
   "cell_type": "code",
   "execution_count": null,
   "id": "e241c364-358b-4caa-8687-cba724c33584",
   "metadata": {},
   "outputs": [],
   "source": [
    "#2 Pie chart: To show the proportion of participants who report positive or negative impacts for each of the top 5 music genres.\n"
   ]
  },
  {
   "cell_type": "markdown",
   "id": "1c075d1f-eadb-48b0-9acc-afea3906a0e2",
   "metadata": {},
   "source": [
    "# What top 5 music genres most affect people’s mental health (worsens or improves)?\n"
   ]
  },
  {
   "cell_type": "code",
   "execution_count": null,
   "id": "c87b5742-4b28-41c7-b1b0-23cfce06b113",
   "metadata": {},
   "outputs": [],
   "source": [
    "#3 Scatter Plot: To show the correlation between specific music genres and their impact on various mental health issues.\n"
   ]
  },
  {
   "cell_type": "code",
   "execution_count": null,
   "id": "e86bf884-f1d6-4a45-a8fe-ae7adf23c4a5",
   "metadata": {},
   "outputs": [],
   "source": [
    "#3 Clustered Bar Chart: To compare the impact of different music genres on various specific mental health issues side by side, allowing for easy comparison within each mental health issue category.\n"
   ]
  },
  {
   "cell_type": "markdown",
   "id": "e8533137-8cc0-436f-9990-b08dc01a4407",
   "metadata": {},
   "source": [
    "# Which music genre(s) are often correlated to a significant effect on specific mental health issues (anxiety, depression, OCD, & insomnia)?\n"
   ]
  },
  {
   "cell_type": "code",
   "execution_count": null,
   "id": "c80eb635-f4dd-448b-9b64-a112cec37649",
   "metadata": {},
   "outputs": [],
   "source": [
    "#4 Box Plot: To show the distribution of daily music intake among participants who saw an improvement in mental health.\n"
   ]
  },
  {
   "cell_type": "code",
   "execution_count": null,
   "id": "90e8aac9-f971-4d5b-8fd0-46a1565fa66f",
   "metadata": {},
   "outputs": [],
   "source": [
    "#4 Scatter Plot: Average hourly intake of music per day vs the level of reported mental health improvement to show a trend/correlation in data\n"
   ]
  },
  {
   "cell_type": "markdown",
   "id": "1cbbbd46-3a01-41c6-8c90-ec302467c76e",
   "metadata": {},
   "source": [
    "# What is the average hourly intake of music per day for participants who saw an improvement in mental health?\n"
   ]
  },
  {
   "cell_type": "code",
   "execution_count": 10,
   "id": "5a7a43df-8386-45b3-a114-663e9b17f211",
   "metadata": {},
   "outputs": [
    {
     "data": {
      "image/png": "[encoded data removed]",
      "text/plain": [
       "<Figure size 800x800 with 1 Axes>"
      ]
     },
     "metadata": {},
     "output_type": "display_data"
    }
   ],
   "source": [
    "# Filter data for participants who reported positive and negative effects\n",
    "positive_effects = mxmh_clean_df[mxmh_clean_df[\"Music effects\"] == \"Improve\"]\n",
    "negative_effects = mxmh_clean_df[mxmh_clean_df[\"Music effects\"] == \"Worsen\"]\n",
    "\n",
    "# Calculate the counts\n",
    "positive_count = positive_effects.shape[0]\n",
    "negative_count = negative_effects.shape[0]\n",
    "\n",
    "# Data for the pie chart\n",
    "labels = ['Positive Effects', 'Negative Effects']\n",
    "sizes = [positive_count, negative_count]\n",
    "colors = ['#66b3ff', '#ff6666']\n",
    "explode = (0.1, 0)  # explode the 1st slice (Positive Effects)\n",
    "\n",
    "# Create the pie chart\n",
    "plt.figure(figsize=(8, 8))\n",
    "plt.pie(sizes, explode=explode, labels=labels, colors=colors, autopct='%1.1f%%',\n",
    "        shadow=True, startangle=140)\n",
    "plt.title('Percentage of Participants Reporting Positive vs. Negative Effects of Music')\n",
    "plt.show()\n"
   ]
  },
  {
   "cell_type": "code",
   "execution_count": null,
   "id": "9832294a-8afe-4cf2-8721-a67ecb92e952",
   "metadata": {},
   "outputs": [],
   "source": [
    "#5 Bar Chart: Number of participants with a breakdown by those reporting improvement, no change, or deterioration in mental health."
   ]
  },
  {
   "cell_type": "markdown",
   "id": "090ea262-7b9a-4003-b7a5-982c75e18700",
   "metadata": {},
   "source": [
    "# In conclusion, does music have a positive or negative affect on mental health?\n"
   ]
  },
  {
   "cell_type": "code",
   "execution_count": null,
   "id": "d834669d-2fda-437b-97ec-bba6609f01f7",
   "metadata": {},
   "outputs": [],
   "source": []
  }
 ],
 "metadata": {
  "kernelspec": {
   "display_name": "Python 3 (ipykernel)",
   "language": "python",
   "name": "python3"
  },
  "language_info": {
   "codemirror_mode": {
    "name": "ipython",
    "version": 3
   },
   "file_extension": ".py",
   "mimetype": "text/x-python",
   "name": "python",
   "nbconvert_exporter": "python",
   "pygments_lexer": "ipython3",
   "version": "3.12.4"
  }
 },
 "nbformat": 4,
 "nbformat_minor": 5
}
